{
 "cells": [
  {
   "cell_type": "code",
   "execution_count": 1,
   "metadata": {},
   "outputs": [
    {
     "name": "stderr",
     "output_type": "stream",
     "text": [
      "d:\\Users\\sean.ogara\\.conda\\envs\\auto-ml\\Lib\\site-packages\\tqdm\\auto.py:21: TqdmWarning: IProgress not found. Please update jupyter and ipywidgets. See https://ipywidgets.readthedocs.io/en/stable/user_install.html\n",
      "  from .autonotebook import tqdm as notebook_tqdm\n"
     ]
    }
   ],
   "source": [
    "# fixing directory to root of project\n",
    "import git\n",
    "import os\n",
    "import sys\n",
    "\n",
    "repo = git.Repo(\".\", search_parent_directories=True)\n",
    "os.chdir(repo.working_tree_dir)\n",
    "sys.path.append(repo.working_tree_dir)\n",
    "\n",
    "import pandas as pd\n",
    "import numpy as np\n",
    "from scipy.stats import uniform, loguniform, randint\n",
    "from sklearn.linear_model import LogisticRegression\n",
    "from sklearn.ensemble import RandomForestClassifier\n",
    "from sklearn.preprocessing import MinMaxScaler\n",
    "from sklearn.impute import KNNImputer\n",
    "\n",
    "from src.utils.utils import int_loguniform\n",
    "from src.modelling.pipeline.ml_pipeline import (\n",
    "    preprocess_features,\n",
    "    preprocess_target,\n",
    "    FilterFeatures,\n",
    "    model_pipeline,\n",
    "    )\n",
    "\n",
    "\n",
    "from sklearn.datasets import load_iris\n"
   ]
  },
  {
   "cell_type": "code",
   "execution_count": 2,
   "metadata": {},
   "outputs": [
    {
     "data": {
      "text/html": [
       "<div>\n",
       "<style scoped>\n",
       "    .dataframe tbody tr th:only-of-type {\n",
       "        vertical-align: middle;\n",
       "    }\n",
       "\n",
       "    .dataframe tbody tr th {\n",
       "        vertical-align: top;\n",
       "    }\n",
       "\n",
       "    .dataframe thead th {\n",
       "        text-align: right;\n",
       "    }\n",
       "</style>\n",
       "<table border=\"1\" class=\"dataframe\">\n",
       "  <thead>\n",
       "    <tr style=\"text-align: right;\">\n",
       "      <th></th>\n",
       "      <th>sepal length (cm)</th>\n",
       "      <th>sepal width (cm)</th>\n",
       "      <th>petal length (cm)</th>\n",
       "      <th>petal width (cm)</th>\n",
       "      <th>target</th>\n",
       "    </tr>\n",
       "  </thead>\n",
       "  <tbody>\n",
       "    <tr>\n",
       "      <th>0</th>\n",
       "      <td>5.1</td>\n",
       "      <td>3.5</td>\n",
       "      <td>1.4</td>\n",
       "      <td>0.2</td>\n",
       "      <td>0.0</td>\n",
       "    </tr>\n",
       "    <tr>\n",
       "      <th>1</th>\n",
       "      <td>4.9</td>\n",
       "      <td>3.0</td>\n",
       "      <td>1.4</td>\n",
       "      <td>0.2</td>\n",
       "      <td>0.0</td>\n",
       "    </tr>\n",
       "    <tr>\n",
       "      <th>2</th>\n",
       "      <td>4.7</td>\n",
       "      <td>3.2</td>\n",
       "      <td>1.3</td>\n",
       "      <td>0.2</td>\n",
       "      <td>0.0</td>\n",
       "    </tr>\n",
       "    <tr>\n",
       "      <th>3</th>\n",
       "      <td>4.6</td>\n",
       "      <td>3.1</td>\n",
       "      <td>1.5</td>\n",
       "      <td>0.2</td>\n",
       "      <td>0.0</td>\n",
       "    </tr>\n",
       "    <tr>\n",
       "      <th>4</th>\n",
       "      <td>5.0</td>\n",
       "      <td>3.6</td>\n",
       "      <td>1.4</td>\n",
       "      <td>0.2</td>\n",
       "      <td>0.0</td>\n",
       "    </tr>\n",
       "    <tr>\n",
       "      <th>...</th>\n",
       "      <td>...</td>\n",
       "      <td>...</td>\n",
       "      <td>...</td>\n",
       "      <td>...</td>\n",
       "      <td>...</td>\n",
       "    </tr>\n",
       "    <tr>\n",
       "      <th>95</th>\n",
       "      <td>5.7</td>\n",
       "      <td>3.0</td>\n",
       "      <td>4.2</td>\n",
       "      <td>1.2</td>\n",
       "      <td>1.0</td>\n",
       "    </tr>\n",
       "    <tr>\n",
       "      <th>96</th>\n",
       "      <td>5.7</td>\n",
       "      <td>2.9</td>\n",
       "      <td>4.2</td>\n",
       "      <td>1.3</td>\n",
       "      <td>1.0</td>\n",
       "    </tr>\n",
       "    <tr>\n",
       "      <th>97</th>\n",
       "      <td>6.2</td>\n",
       "      <td>2.9</td>\n",
       "      <td>4.3</td>\n",
       "      <td>1.3</td>\n",
       "      <td>1.0</td>\n",
       "    </tr>\n",
       "    <tr>\n",
       "      <th>98</th>\n",
       "      <td>5.1</td>\n",
       "      <td>2.5</td>\n",
       "      <td>3.0</td>\n",
       "      <td>1.1</td>\n",
       "      <td>1.0</td>\n",
       "    </tr>\n",
       "    <tr>\n",
       "      <th>99</th>\n",
       "      <td>5.7</td>\n",
       "      <td>2.8</td>\n",
       "      <td>4.1</td>\n",
       "      <td>1.3</td>\n",
       "      <td>1.0</td>\n",
       "    </tr>\n",
       "  </tbody>\n",
       "</table>\n",
       "<p>100 rows × 5 columns</p>\n",
       "</div>"
      ],
      "text/plain": [
       "    sepal length (cm)  sepal width (cm)  petal length (cm)  petal width (cm)  \\\n",
       "0                 5.1               3.5                1.4               0.2   \n",
       "1                 4.9               3.0                1.4               0.2   \n",
       "2                 4.7               3.2                1.3               0.2   \n",
       "3                 4.6               3.1                1.5               0.2   \n",
       "4                 5.0               3.6                1.4               0.2   \n",
       "..                ...               ...                ...               ...   \n",
       "95                5.7               3.0                4.2               1.2   \n",
       "96                5.7               2.9                4.2               1.3   \n",
       "97                6.2               2.9                4.3               1.3   \n",
       "98                5.1               2.5                3.0               1.1   \n",
       "99                5.7               2.8                4.1               1.3   \n",
       "\n",
       "    target  \n",
       "0      0.0  \n",
       "1      0.0  \n",
       "2      0.0  \n",
       "3      0.0  \n",
       "4      0.0  \n",
       "..     ...  \n",
       "95     1.0  \n",
       "96     1.0  \n",
       "97     1.0  \n",
       "98     1.0  \n",
       "99     1.0  \n",
       "\n",
       "[100 rows x 5 columns]"
      ]
     },
     "execution_count": 2,
     "metadata": {},
     "output_type": "execute_result"
    }
   ],
   "source": [
    "iris = load_iris()\n",
    "\n",
    "iris_data = pd.DataFrame(np.concatenate((iris.data, np.array([iris.target]).T), axis=1), columns=iris.feature_names + ['target'])\n",
    "iris_data = iris_data[iris_data[\"target\"].isin([0, 1.0])]\n",
    "iris_data"
   ]
  },
  {
   "cell_type": "code",
   "execution_count": 3,
   "metadata": {},
   "outputs": [],
   "source": [
    "# set the pipeline code running with a logistic regression and a decision tree classifier model\n",
    "# see where it breaks, remove those bits of code temporarily and get the core pipeline working\n",
    "# build some logic into the broken bits of the code to run differently when a classification task is running, get the code working agian with all bits added back in\n",
    "# code the classification logic"
   ]
  },
  {
   "cell_type": "code",
   "execution_count": 4,
   "metadata": {},
   "outputs": [
    {
     "data": {
      "image/png": "[encoded data removed]",
      "text/plain": [
       "<Figure size 640x480 with 4 Axes>"
      ]
     },
     "metadata": {},
     "output_type": "display_data"
    }
   ],
   "source": [
    "from sklearn.ensemble import GradientBoostingClassifier\n",
    "from sklearn.inspection import PartialDependenceDisplay\n",
    "from sklearn.datasets import make_hastie_10_2\n",
    "import matplotlib.pyplot as plt\n",
    "\n",
    "X, y = make_hastie_10_2(random_state=0)\n",
    "\n",
    "\n",
    "iris = load_iris()\n",
    "mc_clf = GradientBoostingClassifier(n_estimators=10,\n",
    "    max_depth=1).fit(iris.data, iris.target)\n",
    "features = [3, 2, (3, 2)]\n",
    "PartialDependenceDisplay.from_estimator(mc_clf, X, features, target=0)\n",
    "plt.show()"
   ]
  },
  {
   "cell_type": "code",
   "execution_count": 5,
   "metadata": {},
   "outputs": [
    {
     "name": "stderr",
     "output_type": "stream",
     "text": [
      "2025/04/07 14:48:53 WARNING mlflow.utils.autologging_utils: MLflow sklearn autologging is known to be compatible with 0.24.1 <= scikit-learn <= 1.5.1, but the installed version is 1.6.1. If you encounter errors during autologging, try upgrading / downgrading scikit-learn to a compatible version, or try upgrading MLflow.\n"
     ]
    },
    {
     "name": "stdout",
     "output_type": "stream",
     "text": [
      "Number of cores available for parallel processing: 4\n",
      "TunedThresholdClassifierCV\n"
     ]
    },
    {
     "name": "stderr",
     "output_type": "stream",
     "text": [
      "d:\\Users\\sean.ogara\\.conda\\envs\\auto-ml\\Lib\\site-packages\\sklearn\\model_selection\\_search.py:317: UserWarning: The total space of parameters 1 is smaller than n_iter=150. Running 1 iterations. For exhaustive searches, use GridSearchCV.\n",
      "  warnings.warn(\n"
     ]
    },
    {
     "name": "stdout",
     "output_type": "stream",
     "text": [
      "Fitting 5 folds for each of 1 candidates, totalling 5 fits\n"
     ]
    },
    {
     "name": "stderr",
     "output_type": "stream",
     "text": [
      "Downloading artifacts: 100%|██████████| 7/7 [00:00<00:00, 1398.83it/s]\n",
      "Downloading artifacts: 100%|██████████| 7/7 [00:00<00:00, 1401.44it/s]\n",
      "2025/04/07 14:49:23 WARNING mlflow.utils.autologging_utils: MLflow autologging encountered a warning: \"d:\\Users\\sean.ogara\\.conda\\envs\\auto-ml\\Lib\\site-packages\\mlflow\\sklearn\\utils.py:808: UserWarning: Top 50 child runs will be created based on ordering in rank_test_f1 column.  You can choose not to limit the number of child runs created by setting `max_tuning_runs=None`.\"\n",
      "2025/04/07 14:49:23 INFO mlflow.sklearn.utils: Logging the 50 best runs, no runs will be omitted.\n",
      "2025/04/07 14:49:24 WARNING mlflow.utils.autologging_utils: MLflow sklearn autologging is known to be compatible with 0.24.1 <= scikit-learn <= 1.5.1, but the installed version is 1.6.1. If you encounter errors during autologging, try upgrading / downgrading scikit-learn to a compatible version, or try upgrading MLflow.\n"
     ]
    },
    {
     "name": "stdout",
     "output_type": "stream",
     "text": [
      "best threshold: 0.15522635513375632\n",
      "Creating classification evaluation plots\n",
      "TunedThresholdClassifierCV\n"
     ]
    },
    {
     "name": "stderr",
     "output_type": "stream",
     "text": [
      "d:\\Users\\sean.ogara\\.conda\\envs\\auto-ml\\Lib\\site-packages\\sklearn\\model_selection\\_search.py:317: UserWarning: The total space of parameters 1 is smaller than n_iter=150. Running 1 iterations. For exhaustive searches, use GridSearchCV.\n",
      "  warnings.warn(\n"
     ]
    },
    {
     "name": "stdout",
     "output_type": "stream",
     "text": [
      "Fitting 5 folds for each of 1 candidates, totalling 5 fits\n"
     ]
    },
    {
     "name": "stderr",
     "output_type": "stream",
     "text": [
      "Downloading artifacts: 100%|██████████| 7/7 [00:00<00:00, 1400.84it/s]\n",
      "Downloading artifacts: 100%|██████████| 7/7 [00:00<00:00, 776.09it/s] \n",
      "2025/04/07 14:49:45 WARNING mlflow.utils.autologging_utils: MLflow autologging encountered a warning: \"d:\\Users\\sean.ogara\\.conda\\envs\\auto-ml\\Lib\\site-packages\\mlflow\\sklearn\\utils.py:808: UserWarning: Top 50 child runs will be created based on ordering in rank_test_f1 column.  You can choose not to limit the number of child runs created by setting `max_tuning_runs=None`.\"\n",
      "2025/04/07 14:49:45 INFO mlflow.sklearn.utils: Logging the 50 best runs, no runs will be omitted.\n"
     ]
    },
    {
     "name": "stdout",
     "output_type": "stream",
     "text": [
      "best threshold: 0.020202020202020204\n",
      "Creating classification evaluation plots\n"
     ]
    }
   ],
   "source": [
    "# target variables\n",
    "target_var_list = [\"target\"]\n",
    "# drop any unecessary variables from the model. In this case, we are dropping the geographical identifier.\n",
    "drop_variables = []\n",
    "# model dictionary and hyperparameter search space\n",
    "model_param_dict = {\n",
    "    LogisticRegression(): {},\n",
    "    RandomForestClassifier(): {}\n",
    "}\n",
    "# optional controls:\n",
    "# select features list - use to subset specific features of interest, if blank it will use all features.\n",
    "# change feature_filter__filter_features hyperparam when using this\n",
    "select_features_list = []\n",
    "# optional - user specified model for evaluation plots. e.g. user_model = \"Lasso\"\n",
    "# if left blank out the best performing model will be used for the evaluation plots\n",
    "user_model = \"\"\n",
    "# shortened feature name label for evaluation plots\n",
    "col_labels = {}\n",
    "\n",
    "# run pipeline for all models\n",
    "for target_var in target_var_list:\n",
    "    # pre-processing\n",
    "    # drop cols, convert to set to drop unique cols only\n",
    "    cols_to_drop = list(set([target_var] + drop_variables))\n",
    "    features = preprocess_features(df=iris_data, cols_to_drop=cols_to_drop)\n",
    "    target_df = preprocess_target(df=iris_data, target_col=target_var)\n",
    "\n",
    "    # run model pipeline\n",
    "    model_pipeline(\n",
    "        model_param_dict=model_param_dict,\n",
    "        target_var=target_var,\n",
    "        target_df=target_df,\n",
    "        feature_df=features,\n",
    "        id_col=\"\",\n",
    "        original_df=iris_data,\n",
    "        output_path=\"outputs\",\n",
    "        output_label=\"classification_demo\",\n",
    "        col_label_map=col_labels,\n",
    "        user_evaluation_model=user_model,\n",
    "    )\n"
   ]
  }
 ],
 "metadata": {
  "kernelspec": {
   "display_name": "auto-ml",
   "language": "python",
   "name": "python3"
  },
  "language_info": {
   "codemirror_mode": {
    "name": "ipython",
    "version": 3
   },
   "file_extension": ".py",
   "mimetype": "text/x-python",
   "name": "python",
   "nbconvert_exporter": "python",
   "pygments_lexer": "ipython3",
   "version": "3.12.0"
  }
 },
 "nbformat": 4,
 "nbformat_minor": 2
}
