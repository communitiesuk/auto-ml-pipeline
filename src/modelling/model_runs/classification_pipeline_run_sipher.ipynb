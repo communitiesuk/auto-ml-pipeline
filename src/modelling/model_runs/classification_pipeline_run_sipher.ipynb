{
 "cells": [
  {
   "cell_type": "code",
   "execution_count": 28,
   "metadata": {},
   "outputs": [],
   "source": [
    "# fixing directory to root of project\n",
    "import git\n",
    "import os\n",
    "import sys\n",
    "\n",
    "repo = git.Repo(\".\", search_parent_directories=True)\n",
    "os.chdir(repo.working_tree_dir)\n",
    "sys.path.append(repo.working_tree_dir)\n",
    "\n",
    "import pandas as pd\n",
    "import numpy as np\n",
    "from scipy.stats import uniform, loguniform, randint\n",
    "from sklearn.linear_model import LogisticRegression\n",
    "from sklearn.ensemble import RandomForestClassifier\n",
    "from sklearn.preprocessing import MinMaxScaler\n",
    "from sklearn.impute import KNNImputer\n",
    "\n",
    "from src.utils.utils import int_loguniform\n",
    "from src.modelling.pipeline.ml_pipeline import (\n",
    "    preprocess_features,\n",
    "    preprocess_target,\n",
    "    FilterFeatures,\n",
    "    model_pipeline,\n",
    "    )\n",
    "\n",
    "\n",
    "from sklearn.datasets import load_iris\n"
   ]
  },
  {
   "cell_type": "code",
   "execution_count": 29,
   "metadata": {},
   "outputs": [],
   "source": [
    "# Load datasets\n",
    "def load_sipher_datasets():\n",
    "    sipher = pd.read_csv(\"Q:/SDU/simulation-modelling/data/SIPHER/synth_pop_dataset/csv/sp_ind_wavek_census2011_est2020_8cons.csv\")\n",
    "    us_ind = pd.read_table(\"Q:/SDU/simulation-modelling/data/SIPHER/understanding_society/tab/ukhls/k_indresp.tab\")\n",
    "    return sipher, us_ind\n",
    "\n",
    "\n",
    "def get_individuals(us_ind):\n",
    "    ind_vars = ['pidp', 'k_dvage', 'k_health', 'k_vegeamt', 'k_fruitamt',\n",
    "                'k_vwhrs', 'k_mwhrs', 'k_ethn_dv',\n",
    "                'k_helphours1','k_helphoursb1',\n",
    "                'k_anypaya', 'k_payamta', 'k_allcosta',\n",
    "                'k_hospc1', 'k_hospdc1',\n",
    "                'k_brainnervtypn1', 'k_brainnervtypn2', 'k_brainnervtypn3',\n",
    "                'k_brainnervtypn4', 'k_brainnervtypn5', 'k_brainnervtypn6']\n",
    "    sipher_individuals = us_ind[ind_vars]\n",
    "    return sipher_individuals\n",
    "\n",
    "\n",
    "sipher, us_ind = load_sipher_datasets()\n",
    "sipher_data = get_individuals(us_ind)\n"
   ]
  },
  {
   "cell_type": "code",
   "execution_count": 30,
   "metadata": {},
   "outputs": [
    {
     "name": "stderr",
     "output_type": "stream",
     "text": [
      "D:\\Users\\sean.ogara\\AppData\\Local\\Temp\\1\\ipykernel_8188\\3844998724.py:1: SettingWithCopyWarning: \n",
      "A value is trying to be set on a copy of a slice from a DataFrame.\n",
      "Try using .loc[row_indexer,col_indexer] = value instead\n",
      "\n",
      "See the caveats in the documentation: https://pandas.pydata.org/pandas-docs/stable/user_guide/indexing.html#returning-a-view-versus-a-copy\n",
      "  sipher_data[\"has_social_care\"] = 0\n",
      "D:\\Users\\sean.ogara\\AppData\\Local\\Temp\\1\\ipykernel_8188\\3844998724.py:4: SettingWithCopyWarning: \n",
      "A value is trying to be set on a copy of a slice from a DataFrame.\n",
      "Try using .loc[row_indexer,col_indexer] = value instead\n",
      "\n",
      "See the caveats in the documentation: https://pandas.pydata.org/pandas-docs/stable/user_guide/indexing.html#returning-a-view-versus-a-copy\n",
      "  sipher_data[\"has_disability\"] = 0\n"
     ]
    }
   ],
   "source": [
    "sipher_data[\"has_social_care\"] = 0\n",
    "sipher_data.loc[sipher_data[\"k_helphours1\"] > 0, [\"has_social_care\"]] = 1\n",
    "\n",
    "sipher_data[\"has_disability\"] = 0\n",
    "sipher_data.loc[sipher_data[\"k_health\"] == 1, [\"has_disability\"]] = 1\n"
   ]
  },
  {
   "cell_type": "code",
   "execution_count": 31,
   "metadata": {},
   "outputs": [
    {
     "name": "stderr",
     "output_type": "stream",
     "text": [
      "D:\\Users\\sean.ogara\\AppData\\Local\\Temp\\1\\ipykernel_8188\\738985845.py:2: SettingWithCopyWarning: \n",
      "A value is trying to be set on a copy of a slice from a DataFrame.\n",
      "Try using .loc[row_indexer,col_indexer] = value instead\n",
      "\n",
      "See the caveats in the documentation: https://pandas.pydata.org/pandas-docs/stable/user_guide/indexing.html#returning-a-view-versus-a-copy\n",
      "  sipher_data[\"hospital_condition\"] = 0\n",
      "D:\\Users\\sean.ogara\\AppData\\Local\\Temp\\1\\ipykernel_8188\\738985845.py:5: SettingWithCopyWarning: \n",
      "A value is trying to be set on a copy of a slice from a DataFrame.\n",
      "Try using .loc[row_indexer,col_indexer] = value instead\n",
      "\n",
      "See the caveats in the documentation: https://pandas.pydata.org/pandas-docs/stable/user_guide/indexing.html#returning-a-view-versus-a-copy\n",
      "  sipher_data[\"neuro_condition\"] = 0\n"
     ]
    }
   ],
   "source": [
    "# has been to hospital due to condition\n",
    "sipher_data[\"hospital_condition\"] = 0\n",
    "sipher_data.loc[sipher_data[\"k_hospc1\"] == 1, [\"hospital_condition\"]] = 1\n",
    "neurological_conditions = ['k_brainnervtypn1', 'k_brainnervtypn2', 'k_brainnervtypn3','k_brainnervtypn4', 'k_brainnervtypn5', 'k_brainnervtypn6']\n",
    "sipher_data[\"neuro_condition\"] = 0\n",
    "sipher_data.loc[(sipher_data[neurological_conditions] == 1).any(axis=\"columns\"), \"neuro_condition\"] = 1"
   ]
  },
  {
   "cell_type": "code",
   "execution_count": 32,
   "metadata": {},
   "outputs": [
    {
     "name": "stderr",
     "output_type": "stream",
     "text": [
      "D:\\Users\\sean.ogara\\AppData\\Local\\Temp\\1\\ipykernel_8188\\3841004204.py:1: SettingWithCopyWarning: \n",
      "A value is trying to be set on a copy of a slice from a DataFrame.\n",
      "Try using .loc[row_indexer,col_indexer] = value instead\n",
      "\n",
      "See the caveats in the documentation: https://pandas.pydata.org/pandas-docs/stable/user_guide/indexing.html#returning-a-view-versus-a-copy\n",
      "  sipher_data[\"healthy_eater\"] = 0\n",
      "D:\\Users\\sean.ogara\\AppData\\Local\\Temp\\1\\ipykernel_8188\\3841004204.py:4: SettingWithCopyWarning: \n",
      "A value is trying to be set on a copy of a slice from a DataFrame.\n",
      "Try using .loc[row_indexer,col_indexer] = value instead\n",
      "\n",
      "See the caveats in the documentation: https://pandas.pydata.org/pandas-docs/stable/user_guide/indexing.html#returning-a-view-versus-a-copy\n",
      "  sipher_data[\"physically_active\"] = 0\n"
     ]
    }
   ],
   "source": [
    "sipher_data[\"healthy_eater\"] = 0\n",
    "sipher_data.loc[sipher_data[\"k_fruitamt\"] + sipher_data[\"k_vegeamt\"] > 5, [\"healthy_eater\"]] = 1\n",
    "\n",
    "sipher_data[\"physically_active\"] = 0\n",
    "sipher_data.loc[sipher_data[\"k_vwhrs\"] + sipher_data[\"k_mwhrs\"] > 2.5, [\"physically_active\"]] = 1"
   ]
  },
  {
   "cell_type": "code",
   "execution_count": 33,
   "metadata": {},
   "outputs": [
    {
     "name": "stderr",
     "output_type": "stream",
     "text": [
      "D:\\Users\\sean.ogara\\AppData\\Local\\Temp\\1\\ipykernel_8188\\1805225033.py:1: SettingWithCopyWarning: \n",
      "A value is trying to be set on a copy of a slice from a DataFrame.\n",
      "Try using .loc[row_indexer,col_indexer] = value instead\n",
      "\n",
      "See the caveats in the documentation: https://pandas.pydata.org/pandas-docs/stable/user_guide/indexing.html#returning-a-view-versus-a-copy\n",
      "  sipher_data[\"white_british\"] = 0\n"
     ]
    }
   ],
   "source": [
    "sipher_data[\"white_british\"] = 0\n",
    "sipher_data.loc[sipher_data[\"k_ethn_dv\"] == 1, [\"white_british\"]] = 1\n"
   ]
  },
  {
   "cell_type": "code",
   "execution_count": 34,
   "metadata": {},
   "outputs": [],
   "source": [
    "sipher_data = sipher_data[[\"pidp\", \"healthy_eater\", \"has_social_care\", \"white_british\", \"has_disability\", \"k_dvage\", \"hospital_condition\", \"neuro_condition\"]]"
   ]
  },
  {
   "cell_type": "code",
   "execution_count": 35,
   "metadata": {},
   "outputs": [
    {
     "name": "stdout",
     "output_type": "stream",
     "text": [
      "Number of cores available for parallel processing: 4\n",
      "LogisticRegression\n"
     ]
    },
    {
     "name": "stderr",
     "output_type": "stream",
     "text": [
      "2025/04/01 10:38:30 WARNING mlflow.utils.autologging_utils: MLflow autologging encountered a warning: \"d:\\Users\\sean.ogara\\.conda\\envs\\auto-ml\\Lib\\site-packages\\mlflow\\types\\utils.py:407: UserWarning: Hint: Inferred schema contains integer column(s). Integer columns in Python cannot represent missing values. If your input data contains missing values at inference time, it will be encoded as floats and will cause a schema enforcement error. The best way to avoid this problem is to infer the model schema based on a realistic data sample (training dataset) that includes missing values. Alternatively, you can declare integer columns as doubles (float64) whenever these columns may have missing values. See `Handling Integers With Missing Values <https://www.mlflow.org/docs/latest/models.html#handling-integers-with-missing-values>`_ for more details.\"\n",
      "d:\\Users\\sean.ogara\\.conda\\envs\\auto-ml\\Lib\\site-packages\\sklearn\\model_selection\\_search.py:318: UserWarning: The total space of parameters 1 is smaller than n_iter=150. Running 1 iterations. For exhaustive searches, use GridSearchCV.\n",
      "  warnings.warn(\n"
     ]
    },
    {
     "name": "stdout",
     "output_type": "stream",
     "text": [
      "Fitting 5 folds for each of 1 candidates, totalling 5 fits\n"
     ]
    },
    {
     "name": "stderr",
     "output_type": "stream",
     "text": [
      "2025/04/01 10:38:45 WARNING mlflow.utils.autologging_utils: MLflow autologging encountered a warning: \"d:\\Users\\sean.ogara\\.conda\\envs\\auto-ml\\Lib\\site-packages\\mlflow\\types\\utils.py:407: UserWarning: Hint: Inferred schema contains integer column(s). Integer columns in Python cannot represent missing values. If your input data contains missing values at inference time, it will be encoded as floats and will cause a schema enforcement error. The best way to avoid this problem is to infer the model schema based on a realistic data sample (training dataset) that includes missing values. Alternatively, you can declare integer columns as doubles (float64) whenever these columns may have missing values. See `Handling Integers With Missing Values <https://www.mlflow.org/docs/latest/models.html#handling-integers-with-missing-values>`_ for more details.\"\n",
      "Downloading artifacts: 100%|██████████| 7/7 [00:00<00:00, 663.04it/s] \n",
      "Downloading artifacts: 100%|██████████| 7/7 [00:00<00:00, 317.96it/s]\n",
      "2025/04/01 10:39:00 WARNING mlflow.utils.autologging_utils: MLflow autologging encountered a warning: \"d:\\Users\\sean.ogara\\.conda\\envs\\auto-ml\\Lib\\site-packages\\mlflow\\sklearn\\utils.py:808: UserWarning: Top 50 child runs will be created based on ordering in rank_test_f1_macro column.  You can choose not to limit the number of child runs created by setting `max_tuning_runs=None`.\"\n",
      "2025/04/01 10:39:00 INFO mlflow.sklearn.utils: Logging the 50 best runs, no runs will be omitted.\n"
     ]
    },
    {
     "name": "stdout",
     "output_type": "stream",
     "text": [
      "{'mean_fit_time': array([0.03178883]), 'std_fit_time': array([0.0089947]), 'mean_score_time': array([0.00699768]), 'std_score_time': array([0.00184636]), 'params': [{}], 'split0_test_f1_macro': array([0.6850322]), 'split1_test_f1_macro': array([0.68524281]), 'split2_test_f1_macro': array([0.68639546]), 'split3_test_f1_macro': array([0.67368504]), 'split4_test_f1_macro': array([0.66223539]), 'mean_test_f1_macro': array([0.67851818]), 'std_test_f1_macro': array([0.00936155]), 'rank_test_f1_macro': array([1]), 'split0_train_f1_macro': array([0.67759358]), 'split1_train_f1_macro': array([0.67927525]), 'split2_train_f1_macro': array([0.67601053]), 'split3_train_f1_macro': array([0.68244413]), 'split4_train_f1_macro': array([0.68691613]), 'mean_train_f1_macro': array([0.68044792]), 'std_train_f1_macro': array([0.0038739]), 'split0_test_accuracy': array([0.93303397]), 'split1_test_accuracy': array([0.93263035]), 'split2_test_accuracy': array([0.93614528]), 'split3_test_accuracy': array([0.93321617]), 'split4_test_accuracy': array([0.93087288]), 'mean_test_accuracy': array([0.93317973]), 'std_test_accuracy': array([0.00169944]), 'rank_test_accuracy': array([1]), 'split0_train_accuracy': array([0.93311853]), 'split1_train_accuracy': array([0.93341469]), 'split2_train_accuracy': array([0.93287772]), 'split3_train_accuracy': array([0.93365877]), 'split4_train_accuracy': array([0.93380522]), 'mean_train_accuracy': array([0.93337499]), 'std_train_accuracy': array([0.00034067])}\n",
      "RandomForestClassifier\n"
     ]
    },
    {
     "name": "stderr",
     "output_type": "stream",
     "text": [
      "2025/04/01 10:39:00 WARNING mlflow.utils.autologging_utils: MLflow autologging encountered a warning: \"d:\\Users\\sean.ogara\\.conda\\envs\\auto-ml\\Lib\\site-packages\\mlflow\\types\\utils.py:407: UserWarning: Hint: Inferred schema contains integer column(s). Integer columns in Python cannot represent missing values. If your input data contains missing values at inference time, it will be encoded as floats and will cause a schema enforcement error. The best way to avoid this problem is to infer the model schema based on a realistic data sample (training dataset) that includes missing values. Alternatively, you can declare integer columns as doubles (float64) whenever these columns may have missing values. See `Handling Integers With Missing Values <https://www.mlflow.org/docs/latest/models.html#handling-integers-with-missing-values>`_ for more details.\"\n",
      "d:\\Users\\sean.ogara\\.conda\\envs\\auto-ml\\Lib\\site-packages\\sklearn\\model_selection\\_search.py:318: UserWarning: The total space of parameters 1 is smaller than n_iter=150. Running 1 iterations. For exhaustive searches, use GridSearchCV.\n",
      "  warnings.warn(\n"
     ]
    },
    {
     "name": "stdout",
     "output_type": "stream",
     "text": [
      "Fitting 5 folds for each of 1 candidates, totalling 5 fits\n"
     ]
    },
    {
     "name": "stderr",
     "output_type": "stream",
     "text": [
      "2025/04/01 10:39:07 WARNING mlflow.utils.autologging_utils: MLflow autologging encountered a warning: \"d:\\Users\\sean.ogara\\.conda\\envs\\auto-ml\\Lib\\site-packages\\mlflow\\types\\utils.py:407: UserWarning: Hint: Inferred schema contains integer column(s). Integer columns in Python cannot represent missing values. If your input data contains missing values at inference time, it will be encoded as floats and will cause a schema enforcement error. The best way to avoid this problem is to infer the model schema based on a realistic data sample (training dataset) that includes missing values. Alternatively, you can declare integer columns as doubles (float64) whenever these columns may have missing values. See `Handling Integers With Missing Values <https://www.mlflow.org/docs/latest/models.html#handling-integers-with-missing-values>`_ for more details.\"\n",
      "Downloading artifacts: 100%|██████████| 7/7 [00:00<00:00, 777.73it/s] \n",
      "Downloading artifacts: 100%|██████████| 7/7 [00:00<00:00, 239.06it/s]\n",
      "2025/04/01 10:39:22 WARNING mlflow.utils.autologging_utils: MLflow autologging encountered a warning: \"d:\\Users\\sean.ogara\\.conda\\envs\\auto-ml\\Lib\\site-packages\\mlflow\\sklearn\\utils.py:808: UserWarning: Top 50 child runs will be created based on ordering in rank_test_f1_macro column.  You can choose not to limit the number of child runs created by setting `max_tuning_runs=None`.\"\n",
      "2025/04/01 10:39:22 INFO mlflow.sklearn.utils: Logging the 50 best runs, no runs will be omitted.\n"
     ]
    },
    {
     "name": "stdout",
     "output_type": "stream",
     "text": [
      "{'mean_fit_time': array([1.55518637]), 'std_fit_time': array([0.20348543]), 'mean_score_time': array([0.06941562]), 'std_score_time': array([0.00595786]), 'params': [{}], 'split0_test_f1_macro': array([0.67236942]), 'split1_test_f1_macro': array([0.67428265]), 'split2_test_f1_macro': array([0.67954085]), 'split3_test_f1_macro': array([0.66454582]), 'split4_test_f1_macro': array([0.65308497]), 'mean_test_f1_macro': array([0.66876474]), 'std_test_f1_macro': array([0.00920022]), 'rank_test_f1_macro': array([1]), 'split0_train_f1_macro': array([0.99853885]), 'split1_train_f1_macro': array([0.99926989]), 'split2_train_f1_macro': array([0.9990865]), 'split3_train_f1_macro': array([0.99890277]), 'split4_train_f1_macro': array([0.99835467]), 'mean_train_f1_macro': array([0.99883054]), 'std_train_f1_macro': array([0.0003392]), 'split0_test_accuracy': array([0.91878173]), 'split1_test_accuracy': array([0.91935169]), 'split2_test_accuracy': array([0.92032806]), 'split3_test_accuracy': array([0.92013279]), 'split4_test_accuracy': array([0.91681312]), 'mean_test_accuracy': array([0.91908148]), 'std_test_accuracy': array([0.00126234]), 'rank_test_accuracy': array([1]), 'split0_train_accuracy': array([0.99960945]), 'split1_train_accuracy': array([0.99980474]), 'split2_train_accuracy': array([0.99975592]), 'split3_train_accuracy': array([0.9997071]), 'split4_train_accuracy': array([0.99956065]), 'mean_train_accuracy': array([0.99968757]), 'std_train_accuracy': array([9.05438656e-05])}\n"
     ]
    }
   ],
   "source": [
    "# target variables\n",
    "target_var_list = [\"has_social_care\"]\n",
    "# drop any unecessary variables from the model. In this case, we are dropping the geographical identifier.\n",
    "drop_variables = []\n",
    "# model dictionary and hyperparameter search space\n",
    "model_param_dict = {\n",
    "    LogisticRegression(): {},\n",
    "    RandomForestClassifier(): {}\n",
    "}\n",
    "# optional controls:\n",
    "# select features list - use to subset specific features of interest, if blank it will use all features.\n",
    "# change feature_filter__filter_features hyperparam when using this\n",
    "select_features_list = []\n",
    "# optional - user specified model for evaluation plots. e.g. user_model = \"Lasso\"\n",
    "# if left blank out the best performing model will be used for the evaluation plots\n",
    "user_model = \"\"\n",
    "# shortened feature name label for evaluation plots\n",
    "col_labels = {}\n",
    "\n",
    "# run pipeline for all models\n",
    "for target_var in target_var_list:\n",
    "    # pre-processing\n",
    "    # drop cols, convert to set to drop unique cols only\n",
    "    cols_to_drop = list(set([target_var] + drop_variables))\n",
    "    features = preprocess_features(df=sipher_data, cols_to_drop=cols_to_drop)\n",
    "    target_df = preprocess_target(df=sipher_data, target_col=target_var)\n",
    "\n",
    "    # run model pipeline\n",
    "    model_pipeline(\n",
    "        model_param_dict=model_param_dict,\n",
    "        target_var=target_var,\n",
    "        target_df=target_df,\n",
    "        feature_df=features,\n",
    "        id_col=\"pidp\",\n",
    "        original_df=sipher_data,\n",
    "        output_path=\"outputs\",\n",
    "        output_label=\"classification_sipher\",\n",
    "        col_label_map=col_labels,\n",
    "        user_evaluation_model=user_model,\n",
    "    )\n"
   ]
  }
 ],
 "metadata": {
  "kernelspec": {
   "display_name": "auto-ml",
   "language": "python",
   "name": "python3"
  },
  "language_info": {
   "codemirror_mode": {
    "name": "ipython",
    "version": 3
   },
   "file_extension": ".py",
   "mimetype": "text/x-python",
   "name": "python",
   "nbconvert_exporter": "python",
   "pygments_lexer": "ipython3",
   "version": "3.12.0"
  }
 },
 "nbformat": 4,
 "nbformat_minor": 2
}
